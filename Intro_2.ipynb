{
 "cells": [
  {
   "cell_type": "markdown",
   "metadata": {},
   "source": [
    "## Intro to Python 2"
   ]
  },
  {
   "cell_type": "markdown",
   "metadata": {},
   "source": [
    "### Indexing and slicing\n",
    "These are both ways of accessing pieces of a whole. They are most commonly used with things like lists, tuples, and strings. Python is zero based which means that the first item in a list (or anything else that can be indexed or sliced) is actually the zeroth item.\n",
    "\n",
    "Given the list in the next cell we can get the value of the zeroth item by calling the name of the variable storing the list with brackets after it with the index position that we are interested in inside the brackets. Try running the cell below to see it in action."
   ]
  },
  {
   "cell_type": "code",
   "execution_count": null,
   "metadata": {
    "collapsed": true
   },
   "outputs": [],
   "source": [
    "names = [ 'John', 'Terry', 'Eric', 'Michael']\n",
    "names[0]"
   ]
  },
  {
   "cell_type": "markdown",
   "metadata": {},
   "source": [
    "In the cell below write the line of code that will get Terry out of our list."
   ]
  },
  {
   "cell_type": "code",
   "execution_count": null,
   "metadata": {
    "collapsed": true
   },
   "outputs": [],
   "source": []
  },
  {
   "cell_type": "markdown",
   "metadata": {},
   "source": [
    "You can also use a negetive index to get something from the back of the list. Try running the code below to get the last item from our names list."
   ]
  },
  {
   "cell_type": "code",
   "execution_count": null,
   "metadata": {
    "collapsed": true
   },
   "outputs": [],
   "source": [
    "names[-1]"
   ]
  },
  {
   "cell_type": "markdown",
   "metadata": {},
   "source": [
    "In the cell below try writing some code that will get Eric out of the list but use a negetive number to get it."
   ]
  },
  {
   "cell_type": "code",
   "execution_count": null,
   "metadata": {
    "collapsed": true
   },
   "outputs": [],
   "source": []
  },
  {
   "cell_type": "markdown",
   "metadata": {},
   "source": [
    "Now we have seen indexing with a list lets try it with a string. Using the string below in the variable mp use indexing to get out the zeroth letter of the string."
   ]
  },
  {
   "cell_type": "code",
   "execution_count": null,
   "metadata": {
    "collapsed": true
   },
   "outputs": [],
   "source": [
    "mp = 'Monty Python'\n",
    "mp[]"
   ]
  },
  {
   "cell_type": "markdown",
   "metadata": {},
   "source": [
    "Do it again be get the last letter out with a negetive index"
   ]
  },
  {
   "cell_type": "code",
   "execution_count": null,
   "metadata": {
    "collapsed": true
   },
   "outputs": [],
   "source": []
  },
  {
   "cell_type": "markdown",
   "metadata": {},
   "source": [
    "### Slicing\n",
    "Indexing lets you get one item out at a time, slicing lets you get multiple things out all at once. Instead of passing just one value into the brackets like with indexing you have upto three numbers that you will pass into the brackets seperating them by colons. The first is index position of the first item that you want to pull out. The second is the index position that is one higher that the index of the last item that you want (slices are not inclusive of the upper position). The third value is often not used but will indicate the skip value. A 2 for the skip value will give you every other item. Slicing is writen in the format of lower_index:uppper_index] or optionally [lower_index:uppper_index:skip_value]\n",
    "\n",
    "Run the cell below to slice out the middle two names in our names list."
   ]
  },
  {
   "cell_type": "code",
   "execution_count": null,
   "metadata": {
    "collapsed": true
   },
   "outputs": [],
   "source": [
    "names[1:3]"
   ]
  },
  {
   "cell_type": "markdown",
   "metadata": {
    "collapsed": true
   },
   "source": [
    "Notice how the slice included the starting index but excluded the name in index position 3. Now in the cell below slice out the word Monty from our mp variable."
   ]
  },
  {
   "cell_type": "code",
   "execution_count": null,
   "metadata": {
    "collapsed": true
   },
   "outputs": [],
   "source": []
  },
  {
   "cell_type": "markdown",
   "metadata": {},
   "source": [
    "One nice thing with slicing in python is that if you want to include the first or last item you dont have to use the index position. You can leave it blank. So to get the first two names out of our names variable you could use the following\n",
    "\n",
    "names[:2]\n",
    "\n",
    "This assumes that the first index position is 0. If you include the starting index position but exclude the ending index position it will give you everything to the end. Try that below to get Python out of the mp variable"
   ]
  },
  {
   "cell_type": "code",
   "execution_count": null,
   "metadata": {
    "collapsed": true
   },
   "outputs": [],
   "source": []
  },
  {
   "cell_type": "markdown",
   "metadata": {},
   "source": [
    "If you omit both the starting position and the ending position it will give you a complete copy of the original.\n",
    "try out names[:] below."
   ]
  },
  {
   "cell_type": "code",
   "execution_count": null,
   "metadata": {
    "collapsed": true
   },
   "outputs": [],
   "source": []
  },
  {
   "cell_type": "markdown",
   "metadata": {},
   "source": [
    "The third option that we have is to skip over values. So given a list of numbers below we can get the odd numbers out by ommiting the first two values but passing in a third value of 2."
   ]
  },
  {
   "cell_type": "code",
   "execution_count": null,
   "metadata": {
    "collapsed": true
   },
   "outputs": [],
   "source": [
    "numbers = [1,2,3,4,5,6,7,8,9]\n",
    "numbers[::2]"
   ]
  },
  {
   "cell_type": "markdown",
   "metadata": {},
   "source": [
    "If you wanted to get the even numbers out you would slice it the same way but give a starting position of 1. Try it out below."
   ]
  },
  {
   "cell_type": "code",
   "execution_count": null,
   "metadata": {
    "collapsed": true
   },
   "outputs": [],
   "source": []
  },
  {
   "cell_type": "markdown",
   "metadata": {},
   "source": [
    "### Truth value testing\n",
    "Often you will want to know if something is true. This will get used for conditional testing later. For now we need to know what some of the operators are.\n",
    "\n",
    "== equivilent\n",
    "\n",
    "!= not equivilent\n",
    "\n",
    "<  less than\n",
    "\n",
    "\\>  greater than\n",
    "\n",
    "<= less than or equal\n",
    "\n",
    "\\>= greather than or equal\n",
    "\n",
    "Try running the cell below to see how it works\n"
   ]
  },
  {
   "cell_type": "code",
   "execution_count": null,
   "metadata": {
    "collapsed": false
   },
   "outputs": [],
   "source": [
    "1 < 5 "
   ]
  },
  {
   "cell_type": "markdown",
   "metadata": {},
   "source": [
    "Try 5 < 5"
   ]
  },
  {
   "cell_type": "code",
   "execution_count": null,
   "metadata": {
    "collapsed": true
   },
   "outputs": [],
   "source": []
  },
  {
   "cell_type": "markdown",
   "metadata": {},
   "source": [
    "Now try to see if 5 is less than or equal to 5"
   ]
  },
  {
   "cell_type": "code",
   "execution_count": null,
   "metadata": {
    "collapsed": true
   },
   "outputs": [],
   "source": []
  },
  {
   "cell_type": "markdown",
   "metadata": {},
   "source": [
    "In the cell below add a line of code to test if a is equivalent to b"
   ]
  },
  {
   "cell_type": "code",
   "execution_count": null,
   "metadata": {
    "collapsed": true
   },
   "outputs": [],
   "source": [
    "a = 2 + 2\n",
    "b = 4\n"
   ]
  },
  {
   "cell_type": "markdown",
   "metadata": {},
   "source": [
    "We can also see if something is in something else using the in statement. Try running the cell below to see if a is in apple"
   ]
  },
  {
   "cell_type": "code",
   "execution_count": null,
   "metadata": {
    "collapsed": false
   },
   "outputs": [],
   "source": [
    "'a' in 'apple'"
   ]
  },
  {
   "cell_type": "markdown",
   "metadata": {},
   "source": [
    "You can also test to see if something is in a list, a set, or a dictionary. However when you test if something is in a list it has to check each item in the list until it finds it. This can be slow as you will see when you run the next cell. On the other hand testing for something in a set or a dictionary key is really fast. So just be aware"
   ]
  },
  {
   "cell_type": "code",
   "execution_count": 7,
   "metadata": {
    "collapsed": false
   },
   "outputs": [
    {
     "data": {
      "text/plain": [
       "True"
      ]
     },
     "execution_count": 7,
     "metadata": {},
     "output_type": "execute_result"
    }
   ],
   "source": [
    "5000000 in list(range(10000000))"
   ]
  },
  {
   "cell_type": "markdown",
   "metadata": {},
   "source": [
    "You can also test if something is not in something else. Try running the code below, then modify it so that you get a True response instead of a False response."
   ]
  },
  {
   "cell_type": "code",
   "execution_count": null,
   "metadata": {
    "collapsed": true
   },
   "outputs": [],
   "source": [
    "'g' not in 'grail'"
   ]
  },
  {
   "cell_type": "markdown",
   "metadata": {},
   "source": [
    "### Conditional testing\n",
    "Now that you know how to find out if something is true or not you can start making your program make decisions for you. This is done with if else statements. This lets you set up a choice so that if one condition is true then the program will do one thing and if not true it will do something else. Try running the code below to try it out. Then modify the value of x so that the first condition runs instead of the second."
   ]
  },
  {
   "cell_type": "code",
   "execution_count": null,
   "metadata": {
    "collapsed": true
   },
   "outputs": [],
   "source": [
    "x = 5\n",
    "if x < 5:\n",
    "    print('x is small')\n",
    "else:\n",
    "    print('x is kinda big')"
   ]
  },
  {
   "cell_type": "markdown",
   "metadata": {
    "collapsed": true
   },
   "source": [
    "Sometimes you may want to test multiple conditions before you get to the else statement. In that case after the first if you can use elif which is short for else if. You can have as many elif statements in the code as you want. However only one set of code can run in an if, elif, else combination. Once the first if or elif is True the rest are skipped. Try running the code below and then modify some of the conditional tests to get different sections of the if block to run."
   ]
  },
  {
   "cell_type": "code",
   "execution_count": null,
   "metadata": {
    "collapsed": true
   },
   "outputs": [],
   "source": [
    "y = 5\n",
    "if y * 2 > 10:\n",
    "    print('y is at least 5')\n",
    "elif y == 4:\n",
    "    print('y is 4')\n",
    "else:\n",
    "    print('y is less than 4')"
   ]
  },
  {
   "cell_type": "markdown",
   "metadata": {},
   "source": [
    "In the cell below write an if else statement that checks if 'a' is in your name. If it is print out 'a is in your name!' and if not then print out 'I didnt find a in your name'"
   ]
  },
  {
   "cell_type": "code",
   "execution_count": null,
   "metadata": {
    "collapsed": true
   },
   "outputs": [],
   "source": []
  },
  {
   "cell_type": "markdown",
   "metadata": {},
   "source": [
    "### Loops\n",
    "Loops in python are a handy way "
   ]
  },
  {
   "cell_type": "code",
   "execution_count": null,
   "metadata": {
    "collapsed": true
   },
   "outputs": [],
   "source": []
  }
 ],
 "metadata": {
  "anaconda-cloud": {},
  "kernelspec": {
   "display_name": "Python [conda env:meetup]",
   "language": "python",
   "name": "conda-env-meetup-py"
  },
  "language_info": {
   "codemirror_mode": {
    "name": "ipython",
    "version": 3
   },
   "file_extension": ".py",
   "mimetype": "text/x-python",
   "name": "python",
   "nbconvert_exporter": "python",
   "pygments_lexer": "ipython3",
   "version": "3.5.2"
  }
 },
 "nbformat": 4,
 "nbformat_minor": 0
}
