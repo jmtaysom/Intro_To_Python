{
 "cells": [
  {
   "cell_type": "markdown",
   "metadata": {},
   "source": [
    "## Intro to Python 2"
   ]
  },
  {
   "cell_type": "markdown",
   "metadata": {},
   "source": [
    "### Indexing and slicing\n",
    "These are both ways of accessing pieces of a whole. They are most commonly used with things like lists, tuples, and strings. Python is zero based which means that the first item in a list (or anything else that can be indexed or sliced) is actually the zeroth item.\n",
    "\n",
    "Given the list in the next cell we can get the value of the zeroth item by calling the name of the variable storing the list with brackets after it with the index position that we are interested in inside the brackets. Try running the cell below to see it in action."
   ]
  },
  {
   "cell_type": "code",
   "execution_count": null,
   "metadata": {
    "collapsed": false
   },
   "outputs": [],
   "source": [
    "names = [ 'John', 'Terry', 'Eric', 'Michael']\n",
    "names[0]"
   ]
  },
  {
   "cell_type": "markdown",
   "metadata": {},
   "source": [
    "In the cell below write the line of code that will get Terry out of our list."
   ]
  },
  {
   "cell_type": "code",
   "execution_count": null,
   "metadata": {
    "collapsed": true
   },
   "outputs": [],
   "source": []
  },
  {
   "cell_type": "markdown",
   "metadata": {},
   "source": [
    "You can also use a negetive index to get something from the back of the list. Try running the code below to get the last item from our names list."
   ]
  },
  {
   "cell_type": "code",
   "execution_count": null,
   "metadata": {
    "collapsed": false
   },
   "outputs": [],
   "source": [
    "names[-1]"
   ]
  },
  {
   "cell_type": "markdown",
   "metadata": {},
   "source": [
    "In the cell below try writing some code that will get Eric out of the list but use a negetive number to get it."
   ]
  },
  {
   "cell_type": "code",
   "execution_count": null,
   "metadata": {
    "collapsed": true
   },
   "outputs": [],
   "source": []
  },
  {
   "cell_type": "markdown",
   "metadata": {},
   "source": [
    "Now we have seen indexing with a list lets try it with a string. Using the string below in the variable mp use indexing to get out the zeroth letter of the string."
   ]
  },
  {
   "cell_type": "code",
   "execution_count": null,
   "metadata": {
    "collapsed": false
   },
   "outputs": [],
   "source": [
    "mp = 'Monty Python'\n",
    "mp[]"
   ]
  },
  {
   "cell_type": "markdown",
   "metadata": {},
   "source": [
    "Do it again be get the last letter out with a negetive index"
   ]
  },
  {
   "cell_type": "code",
   "execution_count": null,
   "metadata": {
    "collapsed": true
   },
   "outputs": [],
   "source": []
  },
  {
   "cell_type": "markdown",
   "metadata": {},
   "source": [
    "### Slicing\n",
    "Indexing lets you get one item out at a time, slicing lets you get multiple things out all at once. Instead of passing just one value into the brackets like with indexing you have upto three numbers that you will pass into the brackets seperating them by colons. The first is index position of the first item that you want to pull out. The second is the index position that is one higher that the index of the last item that you want (slices are not inclusive of the upper position). The third value is often not used but will indicate the skip value. A 2 for the skip value will give you every other item. Slicing is writen in the format of lower_index:uppper_index] or optionally [lower_index:uppper_index:skip_value]\n",
    "\n",
    "Run the cell below to slice out the middle two names in our names list."
   ]
  },
  {
   "cell_type": "code",
   "execution_count": null,
   "metadata": {
    "collapsed": true
   },
   "outputs": [],
   "source": [
    "names[1:3]"
   ]
  },
  {
   "cell_type": "markdown",
   "metadata": {
    "collapsed": true
   },
   "source": [
    "Notice how the slice included the starting index but excluded the name in index position 3. Now in the cell below slice out the word Monty from our mp variable."
   ]
  },
  {
   "cell_type": "code",
   "execution_count": null,
   "metadata": {
    "collapsed": true
   },
   "outputs": [],
   "source": []
  },
  {
   "cell_type": "markdown",
   "metadata": {},
   "source": [
    "One nice thing with slicing in python is that if you want to include the first or last item you dont have to use the index position. You can leave it blank. So to get the first two names out of our names variable you could use the following\n",
    "\n",
    "names[:2]\n",
    "\n",
    "This assumes that the first index position is 0. If you include the starting index position but exclude the ending index position it will give you everything to the end. Try that below to get Python out of the mp variable"
   ]
  },
  {
   "cell_type": "code",
   "execution_count": null,
   "metadata": {
    "collapsed": true
   },
   "outputs": [],
   "source": []
  },
  {
   "cell_type": "markdown",
   "metadata": {},
   "source": [
    "If you omit both the starting position and the ending position it will give you a complete copy of the original.\n",
    "try out names[:] below."
   ]
  },
  {
   "cell_type": "code",
   "execution_count": null,
   "metadata": {
    "collapsed": true
   },
   "outputs": [],
   "source": []
  },
  {
   "cell_type": "markdown",
   "metadata": {},
   "source": [
    "The third option that we have is to skip over values. So given a list of numbers below we can get the odd numbers out by ommiting the first two values but passing in a third value of 2."
   ]
  },
  {
   "cell_type": "code",
   "execution_count": null,
   "metadata": {
    "collapsed": true
   },
   "outputs": [],
   "source": [
    "numbers = [1,2,3,4,5,6,7,8,9]\n",
    "numbers[::2]"
   ]
  },
  {
   "cell_type": "markdown",
   "metadata": {},
   "source": [
    "If you wanted to get the even numbers out you would slice it the same way but give a starting position of 1. Try it out below."
   ]
  },
  {
   "cell_type": "code",
   "execution_count": null,
   "metadata": {
    "collapsed": true
   },
   "outputs": [],
   "source": []
  },
  {
   "cell_type": "markdown",
   "metadata": {},
   "source": [
    "### Truth value testing\n",
    "Often you will want to know if something is true. This will get used for conditional testing later. For now we need to know what some of the operators are.\n",
    "\n",
    "== equivilent\n",
    "\n",
    "!= not equivilent\n",
    "\n",
    "<  less than\n",
    "\n",
    "\\>  greater than\n",
    "\n",
    "<= less than or equal\n",
    "\n",
    "\\>= greather than or equal\n",
    "\n",
    "Try running the cell below to see how it works\n"
   ]
  },
  {
   "cell_type": "code",
   "execution_count": null,
   "metadata": {
    "collapsed": false
   },
   "outputs": [],
   "source": [
    "1 < 5 "
   ]
  },
  {
   "cell_type": "markdown",
   "metadata": {},
   "source": [
    "Try 5 < 5"
   ]
  },
  {
   "cell_type": "code",
   "execution_count": null,
   "metadata": {
    "collapsed": true
   },
   "outputs": [],
   "source": []
  },
  {
   "cell_type": "markdown",
   "metadata": {},
   "source": [
    "Now try to see if 5 is less than or equal to 5"
   ]
  },
  {
   "cell_type": "code",
   "execution_count": null,
   "metadata": {
    "collapsed": true
   },
   "outputs": [],
   "source": []
  },
  {
   "cell_type": "markdown",
   "metadata": {},
   "source": [
    "In the cell below add a line of code to test if a is equivalent to b"
   ]
  },
  {
   "cell_type": "code",
   "execution_count": null,
   "metadata": {
    "collapsed": true
   },
   "outputs": [],
   "source": [
    "a = 2 + 2\n",
    "b = 4\n"
   ]
  },
  {
   "cell_type": "markdown",
   "metadata": {},
   "source": [
    "We can also see if something is in something else using the in statement. Try running the cell below to see if a is in apple"
   ]
  },
  {
   "cell_type": "code",
   "execution_count": null,
   "metadata": {
    "collapsed": false
   },
   "outputs": [],
   "source": [
    "'a' in 'apple'"
   ]
  },
  {
   "cell_type": "markdown",
   "metadata": {},
   "source": [
    "You can also test to see if something is in a list, a set, or a dictionary. However when you test if something is in a list it has to check each item in the list until it finds it. This can be slow as you will see when you run the next cell. On the other hand testing for something in a set or a dictionary key is really fast. So just be aware"
   ]
  },
  {
   "cell_type": "code",
   "execution_count": null,
   "metadata": {
    "collapsed": false
   },
   "outputs": [],
   "source": [
    "5000000 in list(range(10000000))"
   ]
  },
  {
   "cell_type": "markdown",
   "metadata": {},
   "source": [
    "You can also test if something is not in something else. Try running the code below, then modify it so that you get a True response instead of a False response."
   ]
  },
  {
   "cell_type": "code",
   "execution_count": null,
   "metadata": {
    "collapsed": true
   },
   "outputs": [],
   "source": [
    "'g' not in 'grail'"
   ]
  },
  {
   "cell_type": "markdown",
   "metadata": {},
   "source": [
    "### Conditional testing\n",
    "Now that you know how to find out if something is true or not you can start making your program make decisions for you. This is done with if else statements. This lets you set up a choice so that if one condition is true then the program will do one thing and if not true it will do something else. Try running the code below to try it out. Then modify the value of x so that the first condition runs instead of the second."
   ]
  },
  {
   "cell_type": "code",
   "execution_count": null,
   "metadata": {
    "collapsed": true
   },
   "outputs": [],
   "source": [
    "x = 5\n",
    "if x < 5:\n",
    "    print('x is small')\n",
    "else:\n",
    "    print('x is kinda big')"
   ]
  },
  {
   "cell_type": "markdown",
   "metadata": {
    "collapsed": true
   },
   "source": [
    "Sometimes you may want to test multiple conditions before you get to the else statement. In that case after the first if you can use elif which is short for else if. You can have as many elif statements in the code as you want. However only one set of code can run in an if, elif, else combination. Once the first if or elif is True the rest are skipped. Try running the code below and then modify some of the conditional tests to get different sections of the if block to run."
   ]
  },
  {
   "cell_type": "code",
   "execution_count": null,
   "metadata": {
    "collapsed": true
   },
   "outputs": [],
   "source": [
    "y = 5\n",
    "if y * 2 > 10:\n",
    "    print('y is at least 5')\n",
    "elif y == 4:\n",
    "    print('y is 4')\n",
    "else:\n",
    "    print('y is less than 4')"
   ]
  },
  {
   "cell_type": "markdown",
   "metadata": {},
   "source": [
    "In the cell below write an if else statement that checks if 'a' is in your name. If it is print out 'a is in your name!' and if not then print out 'I didnt find a in your name'"
   ]
  },
  {
   "cell_type": "code",
   "execution_count": null,
   "metadata": {
    "collapsed": true
   },
   "outputs": [],
   "source": []
  },
  {
   "cell_type": "markdown",
   "metadata": {},
   "source": [
    "### Loops\n",
    "Loops in python are a handy way of running a block of code over and over. There are two types of loops, for loops and while loops. For loops will run once for every item in an iterable that you give it. So if you give it a list with 5 things in it the for loop will run the block of code 5 times. While loops on the other hand will keep running as long as a condition is true. Once the condition is false it will stop. So if you know how many times you want to run the loop you will use a for loop but if you dont know how many times it will need to run and the computer has to choose when to stop you will use a while loop. Try running the for loop below."
   ]
  },
  {
   "cell_type": "code",
   "execution_count": null,
   "metadata": {
    "collapsed": true
   },
   "outputs": [],
   "source": [
    "names = [ 'John', 'Terry', 'Eric', 'Michael']\n",
    "for name in names:\n",
    "    print(name + ' is a great actor')"
   ]
  },
  {
   "cell_type": "markdown",
   "metadata": {},
   "source": [
    "If you notice we use a variable called name that we havent used yet. It gets declared in the for loop and each time through the loop it gets a new value assigned to it. It doesnt mater what we call that new variable as long as that is what we use inside of the loop. I like naming my lists with a plural name and then using the singular name as the new loop variable. For name in names or for file in files. It helps me remember which one I should be using. Now try creating a for loop the will print out the days of the week."
   ]
  },
  {
   "cell_type": "code",
   "execution_count": null,
   "metadata": {
    "collapsed": true
   },
   "outputs": [],
   "source": [
    "days = ['Monday', 'Tuesday', 'Wednesday', 'Thursday', 'Friday', 'Saturday', 'Sunday']\n"
   ]
  },
  {
   "cell_type": "markdown",
   "metadata": {},
   "source": [
    "Often you will want to run a block of code a specific number of times. This is where the range function comes in handy. If you use \n",
    "\n",
    "for x in range(5): \n",
    "\n",
    "you will be able to loop 5 times. The first time x = 0 and the last time x = 4. Try creating a for loop that prints x multiplied by 5."
   ]
  },
  {
   "cell_type": "code",
   "execution_count": null,
   "metadata": {
    "collapsed": true
   },
   "outputs": [],
   "source": []
  },
  {
   "cell_type": "markdown",
   "metadata": {},
   "source": [
    "While loops are better suited for when you arent sure how many times the loop will need to run. Often there will be some calculation involved that once the program reaches a certain threshold will stop. Run the code below to see python increase the value of x by 5 and then be multiplied by 2 until it reaches 100."
   ]
  },
  {
   "cell_type": "code",
   "execution_count": null,
   "metadata": {
    "collapsed": false
   },
   "outputs": [],
   "source": [
    "x = 0\n",
    "print(x)\n",
    "while x < 100:\n",
    "    x = x + 5\n",
    "    x = x * 2\n",
    "    print(x)"
   ]
  },
  {
   "cell_type": "markdown",
   "metadata": {},
   "source": [
    "Although it would have been possible to calculate how many times this would run it sometimes is much more difficult to figure out how many times something may run. And sometimes if there is an outside input that is controlling one of the values it may be impossible to figure out when a condition will change from True to False. Try creating a while loop below that will square (use \\** 2) the value of y and then print it until the value of y is greater than 1000."
   ]
  },
  {
   "cell_type": "code",
   "execution_count": null,
   "metadata": {
    "collapsed": true
   },
   "outputs": [],
   "source": [
    "y = 2\n"
   ]
  },
  {
   "cell_type": "markdown",
   "metadata": {},
   "source": [
    "### Functions\n",
    "Functions allow you to write less code and make sure that you do the same thing the same way each time without having to copy and paste your code over and over. You have already used a couple functions so far. Print has let us print something out, range has given us a series of numbers, and list turned our range into a list object. But there are so many other functions that you will use in python. Some of the ones that you might use are:\n",
    "\n",
    "str, list, dict, set, int, float, help, len, min, max, open, print, range, reversed, sort, sum, type, zip, and many others\n",
    "\n",
    "for a complete list of built-in functions visit https://docs.python.org/3/library/functions.html\n",
    "\n",
    "Lets try a few of these out to see how they work. The first few listed will create an empty object or try to convert another object into its own type. So lets first examine the type of a variable."
   ]
  },
  {
   "cell_type": "code",
   "execution_count": null,
   "metadata": {
    "collapsed": true
   },
   "outputs": [],
   "source": [
    "a = 5\n",
    "type(a)"
   ]
  },
  {
   "cell_type": "markdown",
   "metadata": {},
   "source": [
    "Now lets create a new variable b by turning a into a string"
   ]
  },
  {
   "cell_type": "code",
   "execution_count": null,
   "metadata": {
    "collapsed": true
   },
   "outputs": [],
   "source": [
    "b = str(a)\n",
    "print(b)\n",
    "print(type(b))"
   ]
  },
  {
   "cell_type": "markdown",
   "metadata": {},
   "source": [
    "Now create a variable c equal to the value of b turned into a list using the list function."
   ]
  },
  {
   "cell_type": "code",
   "execution_count": null,
   "metadata": {
    "collapsed": true
   },
   "outputs": [],
   "source": []
  },
  {
   "cell_type": "markdown",
   "metadata": {},
   "source": [
    "The length function will tell you how long an object is. For a string it will tell you how many characters are in the string (to include punctuation and spaces), and for a list it will tell you how many objects are stored in the list. Use the following code to find out how many names are in our names variable\n",
    "\n",
    "len(names)"
   ]
  },
  {
   "cell_type": "code",
   "execution_count": null,
   "metadata": {
    "collapsed": true
   },
   "outputs": [],
   "source": []
  },
  {
   "cell_type": "markdown",
   "metadata": {},
   "source": [
    "Help is a useful function as it will give you information about how to use functions and objects. Run the cell below to see how to use the sorted function"
   ]
  },
  {
   "cell_type": "code",
   "execution_count": null,
   "metadata": {
    "collapsed": true
   },
   "outputs": [],
   "source": [
    "help(sorted)"
   ]
  },
  {
   "cell_type": "markdown",
   "metadata": {},
   "source": [
    "Now that you know more about the sorted function, use it below on the list of random numbers to get a sorted output."
   ]
  },
  {
   "cell_type": "code",
   "execution_count": null,
   "metadata": {
    "collapsed": true
   },
   "outputs": [],
   "source": [
    "unsorted_list = [5, 2, 6, 8, 5, 3, 7, 8, 1]\n"
   ]
  },
  {
   "cell_type": "markdown",
   "metadata": {},
   "source": [
    "Use the cell below to try out another function"
   ]
  },
  {
   "cell_type": "code",
   "execution_count": null,
   "metadata": {
    "collapsed": true
   },
   "outputs": [],
   "source": []
  },
  {
   "cell_type": "markdown",
   "metadata": {},
   "source": [
    "Sometimes you need to do something that isnt built-in and that is where Python's batteries included philosophy comes in handy. Inside of every python installation is a series of packages that greatly extends your capabilities. But since these functions are used as often they arent available by default. In order to use them you need to import them. For example the cell below imports the math module and then uses the square root function to find the square root of 100. Try it out below."
   ]
  },
  {
   "cell_type": "code",
   "execution_count": null,
   "metadata": {
    "collapsed": true
   },
   "outputs": [],
   "source": [
    "import math\n",
    "math.sqrt(100)"
   ]
  },
  {
   "cell_type": "markdown",
   "metadata": {},
   "source": [
    "There are lots of other standard packages that are available as can been seen in the python documentation https://docs.python.org/3/library/index.html\n",
    "\n",
    "If you cant find something that meets your needs in the standard library then you can do a google search for what you need and there may be a package created by someone else that meets your needs. It wont be on your computer automatically but you can use pip or conda to install it.\n",
    "\n",
    "However sometimes you need something so specific that you have to create a function yourself. This is done with the def statement. It is used in the format below\n",
    "\n",
    "    def new_function_name(possible_inputs):\n",
    "        a = Do_something(possible_inputs)\n",
    "        return a\n",
    "    \n",
    "Often the last thing in the function will be a return statement that will create an output that will come out of the function just like a string is the output of the str function that we saw earlier. Try running the code below to see how we can create a function that returns the input value squared"
   ]
  },
  {
   "cell_type": "code",
   "execution_count": null,
   "metadata": {
    "collapsed": true
   },
   "outputs": [],
   "source": [
    "def squared(x):\n",
    "    y = x ** 2\n",
    "    return y\n",
    "\n",
    "print(squared(3))\n",
    "print(squared(5))"
   ]
  },
  {
   "cell_type": "markdown",
   "metadata": {},
   "source": [
    "Now it is your turn to create a function. Create a function called hello that accepts a variable name as the input. Inside the function create a new variable that equals 'Hello ' + name. Then return that new variable as an output of the function. The call the function a couple of times each with a different name being passed into the function."
   ]
  },
  {
   "cell_type": "code",
   "execution_count": null,
   "metadata": {
    "collapsed": true
   },
   "outputs": [],
   "source": []
  },
  {
   "cell_type": "code",
   "execution_count": null,
   "metadata": {
    "collapsed": false
   },
   "outputs": [],
   "source": []
  }
 ],
 "metadata": {
  "anaconda-cloud": {},
  "kernelspec": {
   "display_name": "Python [conda env:meetup]",
   "language": "python",
   "name": "conda-env-meetup-py"
  },
  "language_info": {
   "codemirror_mode": {
    "name": "ipython",
    "version": 3
   },
   "file_extension": ".py",
   "mimetype": "text/x-python",
   "name": "python",
   "nbconvert_exporter": "python",
   "pygments_lexer": "ipython3",
   "version": "3.5.2"
  }
 },
 "nbformat": 4,
 "nbformat_minor": 0
}
